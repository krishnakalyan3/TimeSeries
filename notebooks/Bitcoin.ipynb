{
 "cells": [
  {
   "cell_type": "code",
   "execution_count": 15,
   "metadata": {},
   "outputs": [],
   "source": [
    "from math import sqrt\n",
    "from numpy import concatenate\n",
    "from matplotlib import pyplot\n",
    "import pandas as pd\n",
    "from datetime import datetime\n",
    "from sklearn.preprocessing import MinMaxScaler\n",
    "from sklearn.preprocessing import LabelEncoder\n",
    "from sklearn.metrics import mean_squared_error\n",
    "from keras.models import Sequential\n",
    "from keras.layers import Dense\n",
    "from keras.layers import LSTM\n",
    "import numpy as np\n",
    "import seaborn as sns\n",
    "import matplotlib.pyplot as plt\n",
    "import matplotlib.dates as mdates\n",
    "\n",
    "%matplotlib inline"
   ]
  },
  {
   "cell_type": "code",
   "execution_count": 4,
   "metadata": {},
   "outputs": [],
   "source": [
    "data = pd.read_csv(filepath_or_buffer=\"../data/BTC\", index_col=\"Date\")"
   ]
  },
  {
   "cell_type": "code",
   "execution_count": 5,
   "metadata": {},
   "outputs": [
    {
     "data": {
      "text/html": [
       "<div>\n",
       "<style>\n",
       "    .dataframe thead tr:only-child th {\n",
       "        text-align: right;\n",
       "    }\n",
       "\n",
       "    .dataframe thead th {\n",
       "        text-align: left;\n",
       "    }\n",
       "\n",
       "    .dataframe tbody tr th {\n",
       "        vertical-align: top;\n",
       "    }\n",
       "</style>\n",
       "<table border=\"1\" class=\"dataframe\">\n",
       "  <thead>\n",
       "    <tr style=\"text-align: right;\">\n",
       "      <th></th>\n",
       "      <th>Open</th>\n",
       "      <th>High</th>\n",
       "      <th>Low</th>\n",
       "      <th>Close</th>\n",
       "      <th>Volume (BTC)</th>\n",
       "      <th>Volume (Currency)</th>\n",
       "      <th>Weighted Price</th>\n",
       "    </tr>\n",
       "    <tr>\n",
       "      <th>Date</th>\n",
       "      <th></th>\n",
       "      <th></th>\n",
       "      <th></th>\n",
       "      <th></th>\n",
       "      <th></th>\n",
       "      <th></th>\n",
       "      <th></th>\n",
       "    </tr>\n",
       "  </thead>\n",
       "  <tbody>\n",
       "    <tr>\n",
       "      <th>2014-01-07</th>\n",
       "      <td>874.67040</td>\n",
       "      <td>892.06753</td>\n",
       "      <td>810.00000</td>\n",
       "      <td>810.00000</td>\n",
       "      <td>15.622378</td>\n",
       "      <td>13151.472844</td>\n",
       "      <td>841.835522</td>\n",
       "    </tr>\n",
       "    <tr>\n",
       "      <th>2014-01-08</th>\n",
       "      <td>810.00000</td>\n",
       "      <td>899.84281</td>\n",
       "      <td>788.00000</td>\n",
       "      <td>824.98287</td>\n",
       "      <td>19.182756</td>\n",
       "      <td>16097.329584</td>\n",
       "      <td>839.156269</td>\n",
       "    </tr>\n",
       "    <tr>\n",
       "      <th>2014-01-09</th>\n",
       "      <td>825.56345</td>\n",
       "      <td>870.00000</td>\n",
       "      <td>807.42084</td>\n",
       "      <td>841.86934</td>\n",
       "      <td>8.158335</td>\n",
       "      <td>6784.249982</td>\n",
       "      <td>831.572913</td>\n",
       "    </tr>\n",
       "    <tr>\n",
       "      <th>2014-01-10</th>\n",
       "      <td>839.99000</td>\n",
       "      <td>857.34056</td>\n",
       "      <td>817.00000</td>\n",
       "      <td>857.33056</td>\n",
       "      <td>8.024510</td>\n",
       "      <td>6780.220188</td>\n",
       "      <td>844.938794</td>\n",
       "    </tr>\n",
       "    <tr>\n",
       "      <th>2014-01-11</th>\n",
       "      <td>858.20000</td>\n",
       "      <td>918.05471</td>\n",
       "      <td>857.16554</td>\n",
       "      <td>899.84105</td>\n",
       "      <td>18.748285</td>\n",
       "      <td>16698.566929</td>\n",
       "      <td>890.671709</td>\n",
       "    </tr>\n",
       "  </tbody>\n",
       "</table>\n",
       "</div>"
      ],
      "text/plain": [
       "                 Open       High        Low      Close  Volume (BTC)  \\\n",
       "Date                                                                   \n",
       "2014-01-07  874.67040  892.06753  810.00000  810.00000     15.622378   \n",
       "2014-01-08  810.00000  899.84281  788.00000  824.98287     19.182756   \n",
       "2014-01-09  825.56345  870.00000  807.42084  841.86934      8.158335   \n",
       "2014-01-10  839.99000  857.34056  817.00000  857.33056      8.024510   \n",
       "2014-01-11  858.20000  918.05471  857.16554  899.84105     18.748285   \n",
       "\n",
       "            Volume (Currency)  Weighted Price  \n",
       "Date                                           \n",
       "2014-01-07       13151.472844      841.835522  \n",
       "2014-01-08       16097.329584      839.156269  \n",
       "2014-01-09        6784.249982      831.572913  \n",
       "2014-01-10        6780.220188      844.938794  \n",
       "2014-01-11       16698.566929      890.671709  "
      ]
     },
     "execution_count": 5,
     "metadata": {},
     "output_type": "execute_result"
    }
   ],
   "source": [
    "data.head()"
   ]
  },
  {
   "cell_type": "code",
   "execution_count": 28,
   "metadata": {},
   "outputs": [
    {
     "data": {
      "text/plain": [
       "[<matplotlib.lines.Line2D at 0x11855fe10>]"
      ]
     },
     "execution_count": 28,
     "metadata": {},
     "output_type": "execute_result"
    },
    {
     "data": {
      "image/png": "[encoded data removed]",
      "text/plain": [
       "<matplotlib.figure.Figure at 0x1184aa7b8>"
      ]
     },
     "metadata": {},
     "output_type": "display_data"
    }
   ],
   "source": [
    "plt.plot(pd.to_datetime(data.index), data['Weighted Price'])"
   ]
  },
  {
   "cell_type": "code",
   "execution_count": 30,
   "metadata": {},
   "outputs": [
    {
     "data": {
      "text/html": [
       "<div>\n",
       "<style>\n",
       "    .dataframe thead tr:only-child th {\n",
       "        text-align: right;\n",
       "    }\n",
       "\n",
       "    .dataframe thead th {\n",
       "        text-align: left;\n",
       "    }\n",
       "\n",
       "    .dataframe tbody tr th {\n",
       "        vertical-align: top;\n",
       "    }\n",
       "</style>\n",
       "<table border=\"1\" class=\"dataframe\">\n",
       "  <thead>\n",
       "    <tr style=\"text-align: right;\">\n",
       "      <th></th>\n",
       "      <th>Open</th>\n",
       "      <th>High</th>\n",
       "      <th>Low</th>\n",
       "      <th>Close</th>\n",
       "      <th>Volume (BTC)</th>\n",
       "      <th>Volume (Currency)</th>\n",
       "      <th>Weighted Price</th>\n",
       "    </tr>\n",
       "  </thead>\n",
       "  <tbody>\n",
       "    <tr>\n",
       "      <th>count</th>\n",
       "      <td>1380.000000</td>\n",
       "      <td>1380.000000</td>\n",
       "      <td>1380.000000</td>\n",
       "      <td>1380.000000</td>\n",
       "      <td>1380.000000</td>\n",
       "      <td>1.380000e+03</td>\n",
       "      <td>1380.000000</td>\n",
       "    </tr>\n",
       "    <tr>\n",
       "      <th>mean</th>\n",
       "      <td>827.265139</td>\n",
       "      <td>852.988287</td>\n",
       "      <td>802.438957</td>\n",
       "      <td>830.701189</td>\n",
       "      <td>1426.416562</td>\n",
       "      <td>3.029182e+06</td>\n",
       "      <td>828.080762</td>\n",
       "    </tr>\n",
       "    <tr>\n",
       "      <th>std</th>\n",
       "      <td>983.650668</td>\n",
       "      <td>1020.690227</td>\n",
       "      <td>949.973148</td>\n",
       "      <td>991.896300</td>\n",
       "      <td>2590.887536</td>\n",
       "      <td>7.708946e+06</td>\n",
       "      <td>985.386001</td>\n",
       "    </tr>\n",
       "    <tr>\n",
       "      <th>min</th>\n",
       "      <td>0.000000</td>\n",
       "      <td>0.000000</td>\n",
       "      <td>0.000000</td>\n",
       "      <td>0.000000</td>\n",
       "      <td>0.000000</td>\n",
       "      <td>0.000000e+00</td>\n",
       "      <td>0.000000</td>\n",
       "    </tr>\n",
       "    <tr>\n",
       "      <th>25%</th>\n",
       "      <td>296.991870</td>\n",
       "      <td>314.654758</td>\n",
       "      <td>289.275325</td>\n",
       "      <td>299.996087</td>\n",
       "      <td>12.010152</td>\n",
       "      <td>4.718961e+03</td>\n",
       "      <td>299.770053</td>\n",
       "    </tr>\n",
       "    <tr>\n",
       "      <th>50%</th>\n",
       "      <td>501.218380</td>\n",
       "      <td>524.877745</td>\n",
       "      <td>487.447500</td>\n",
       "      <td>504.612380</td>\n",
       "      <td>107.340420</td>\n",
       "      <td>3.150177e+04</td>\n",
       "      <td>499.415896</td>\n",
       "    </tr>\n",
       "    <tr>\n",
       "      <th>75%</th>\n",
       "      <td>769.581250</td>\n",
       "      <td>777.170500</td>\n",
       "      <td>758.340250</td>\n",
       "      <td>768.466000</td>\n",
       "      <td>1573.900464</td>\n",
       "      <td>1.097462e+06</td>\n",
       "      <td>767.736584</td>\n",
       "    </tr>\n",
       "    <tr>\n",
       "      <th>max</th>\n",
       "      <td>5800.000000</td>\n",
       "      <td>5854.400000</td>\n",
       "      <td>5556.100000</td>\n",
       "      <td>5800.000000</td>\n",
       "      <td>21846.766955</td>\n",
       "      <td>7.435428e+07</td>\n",
       "      <td>5692.831135</td>\n",
       "    </tr>\n",
       "  </tbody>\n",
       "</table>\n",
       "</div>"
      ],
      "text/plain": [
       "              Open         High          Low        Close  Volume (BTC)  \\\n",
       "count  1380.000000  1380.000000  1380.000000  1380.000000   1380.000000   \n",
       "mean    827.265139   852.988287   802.438957   830.701189   1426.416562   \n",
       "std     983.650668  1020.690227   949.973148   991.896300   2590.887536   \n",
       "min       0.000000     0.000000     0.000000     0.000000      0.000000   \n",
       "25%     296.991870   314.654758   289.275325   299.996087     12.010152   \n",
       "50%     501.218380   524.877745   487.447500   504.612380    107.340420   \n",
       "75%     769.581250   777.170500   758.340250   768.466000   1573.900464   \n",
       "max    5800.000000  5854.400000  5556.100000  5800.000000  21846.766955   \n",
       "\n",
       "       Volume (Currency)  Weighted Price  \n",
       "count       1.380000e+03     1380.000000  \n",
       "mean        3.029182e+06      828.080762  \n",
       "std         7.708946e+06      985.386001  \n",
       "min         0.000000e+00        0.000000  \n",
       "25%         4.718961e+03      299.770053  \n",
       "50%         3.150177e+04      499.415896  \n",
       "75%         1.097462e+06      767.736584  \n",
       "max         7.435428e+07     5692.831135  "
      ]
     },
     "execution_count": 30,
     "metadata": {},
     "output_type": "execute_result"
    }
   ],
   "source": [
    "data.describe()"
   ]
  },
  {
   "cell_type": "code",
   "execution_count": 33,
   "metadata": {},
   "outputs": [
    {
     "data": {
      "text/plain": [
       "Open                 0\n",
       "High                 0\n",
       "Low                  0\n",
       "Close                0\n",
       "Volume (BTC)         0\n",
       "Volume (Currency)    0\n",
       "Weighted Price       0\n",
       "dtype: int64"
      ]
     },
     "execution_count": 33,
     "metadata": {},
     "output_type": "execute_result"
    }
   ],
   "source": [
    "data.isnull().sum(axis=0)"
   ]
  },
  {
   "cell_type": "code",
   "execution_count": 40,
   "metadata": {},
   "outputs": [
    {
     "data": {
      "text/plain": [
       "48"
      ]
     },
     "execution_count": 40,
     "metadata": {},
     "output_type": "execute_result"
    }
   ],
   "source": [
    "# We have 48 values with 0\n",
    "data['Weighted Price'].apply(lambda x:x==0).sum()"
   ]
  },
  {
   "cell_type": "code",
   "execution_count": 45,
   "metadata": {},
   "outputs": [
    {
     "data": {
      "text/plain": [
       "48"
      ]
     },
     "execution_count": 45,
     "metadata": {},
     "output_type": "execute_result"
    }
   ],
   "source": [
    "# Replace that with NA\n",
    "data['Weighted Price'].replace(0, np.nan, inplace=True)\n",
    "data['Weighted Price'].isnull().sum()"
   ]
  },
  {
   "cell_type": "code",
   "execution_count": 46,
   "metadata": {},
   "outputs": [],
   "source": [
    "# propagate last valid observation forward to next valid backfill\n",
    "data['Weighted Price'].fillna(method='ffill', inplace=True)"
   ]
  },
  {
   "cell_type": "code",
   "execution_count": 47,
   "metadata": {},
   "outputs": [
    {
     "data": {
      "text/plain": [
       "[<matplotlib.lines.Line2D at 0x11d06f668>]"
      ]
     },
     "execution_count": 47,
     "metadata": {},
     "output_type": "execute_result"
    },
    {
     "data": {
      "image/png": "[encoded data removed]",
      "text/plain": [
       "<matplotlib.figure.Figure at 0x11cbaa908>"
      ]
     },
     "metadata": {},
     "output_type": "display_data"
    }
   ],
   "source": [
    "plt.plot(pd.to_datetime(data.index), data['Weighted Price'])"
   ]
  },
  {
   "cell_type": "code",
   "execution_count": 128,
   "metadata": {},
   "outputs": [],
   "source": [
    "from sklearn.preprocessing import MinMaxScaler\n",
    "values = data['Weighted Price'].values.reshape(-1,1)\n",
    "values = values.astype('float32')\n",
    "scaler = MinMaxScaler(feature_range=(0, 1))\n",
    "scaled = scaler.fit_transform(values)"
   ]
  },
  {
   "cell_type": "code",
   "execution_count": 129,
   "metadata": {},
   "outputs": [
    {
     "name": "stdout",
     "output_type": "stream",
     "text": [
      "965 415\n"
     ]
    }
   ],
   "source": [
    "train_size = int(len(scaled) * 0.7)\n",
    "test_size = len(scaled) - train_size\n",
    "train, test = scaled[0:train_size,:], scaled[train_size:len(scaled),:]\n",
    "print(len(train), len(test))"
   ]
  },
  {
   "cell_type": "code",
   "execution_count": 130,
   "metadata": {},
   "outputs": [],
   "source": [
    "def create_dataset(dataset, look_back=1):\n",
    "    dataX, dataY = [], []\n",
    "    for i in range(len(dataset) - look_back):\n",
    "        a = dataset[i:(i + look_back), 0]\n",
    "        dataX.append(a)\n",
    "        dataY.append(dataset[i + look_back, 0])\n",
    "    print(len(dataY))\n",
    "    return np.array(dataX), np.array(dataY)"
   ]
  },
  {
   "cell_type": "code",
   "execution_count": 131,
   "metadata": {},
   "outputs": [
    {
     "name": "stdout",
     "output_type": "stream",
     "text": [
      "963\n",
      "413\n"
     ]
    }
   ],
   "source": [
    "look_back = 2\n",
    "trainX, trainY = create_dataset(train, look_back)\n",
    "testX, testY = create_dataset(test, look_back)"
   ]
  },
  {
   "cell_type": "code",
   "execution_count": 132,
   "metadata": {},
   "outputs": [
    {
     "data": {
      "text/plain": [
       "array([[ 0.11690941],\n",
       "       [ 0.11642168],\n",
       "       [ 0.11504118],\n",
       "       [ 0.11747435],\n",
       "       [ 0.12579972]], dtype=float32)"
      ]
     },
     "execution_count": 132,
     "metadata": {},
     "output_type": "execute_result"
    }
   ],
   "source": [
    "train[0:5]"
   ]
  },
  {
   "cell_type": "code",
   "execution_count": 133,
   "metadata": {},
   "outputs": [
    {
     "data": {
      "text/plain": [
       "array([[ 0.11690941,  0.11642168],\n",
       "       [ 0.11642168,  0.11504118],\n",
       "       [ 0.11504118,  0.11747435],\n",
       "       [ 0.11747435,  0.12579972],\n",
       "       [ 0.12579972,  0.12029894]], dtype=float32)"
      ]
     },
     "execution_count": 133,
     "metadata": {},
     "output_type": "execute_result"
    }
   ],
   "source": [
    "trainX[0:5]"
   ]
  },
  {
   "cell_type": "code",
   "execution_count": 134,
   "metadata": {},
   "outputs": [
    {
     "data": {
      "text/plain": [
       "array([ 0.11504118,  0.11747435,  0.12579972,  0.12029894,  0.11516626], dtype=float32)"
      ]
     },
     "execution_count": 134,
     "metadata": {},
     "output_type": "execute_result"
    }
   ],
   "source": [
    "trainY[0:5]"
   ]
  },
  {
   "cell_type": "code",
   "execution_count": 135,
   "metadata": {},
   "outputs": [],
   "source": [
    "trainX = np.reshape(trainX, (trainX.shape[0], 1, trainX.shape[1]))\n",
    "testX = np.reshape(testX, (testX.shape[0], 1, testX.shape[1]))"
   ]
  },
  {
   "cell_type": "code",
   "execution_count": 136,
   "metadata": {},
   "outputs": [],
   "source": [
    "model = Sequential()\n",
    "model.add(LSTM(100, input_shape=(trainX.shape[1], trainX.shape[2])))\n",
    "model.add(Dense(1))\n",
    "model.compile(loss='mae', optimizer='adam')\n",
    "history = model.fit(trainX, trainY, epochs=20, batch_size=100, \n",
    "                    validation_data=(testX, testY), verbose=0, shuffle=False)"
   ]
  },
  {
   "cell_type": "code",
   "execution_count": 137,
   "metadata": {},
   "outputs": [],
   "source": [
    "yhat_test = model.predict(testX)\n",
    "yhat_train =  model.predict(trainX)"
   ]
  },
  {
   "cell_type": "code",
   "execution_count": 138,
   "metadata": {},
   "outputs": [],
   "source": [
    "z = pd.to_datetime(data.index)\n",
    "k = z.tolist()"
   ]
  },
  {
   "cell_type": "code",
   "execution_count": 139,
   "metadata": {},
   "outputs": [
    {
     "data": {
      "image/png": "[encoded data removed]",
      "text/plain": [
       "<matplotlib.figure.Figure at 0x1207f3eb8>"
      ]
     },
     "metadata": {},
     "output_type": "display_data"
    }
   ],
   "source": [
    "plt.plot(k, scaled, c='k')\n",
    "plt.plot(k[0:len(yhat_train)], yhat_train, c='b')\n",
    "plt.plot(k[-len(yhat_test):], yhat_test, c='r')\n",
    "plt.xlabel('Time')\n",
    "plt.ylabel('Scaled Price')\n",
    "plt.legend(['original', 'training fit', 'test fit'])\n",
    "plt.show()"
   ]
  },
  {
   "cell_type": "code",
   "execution_count": null,
   "metadata": {},
   "outputs": [],
   "source": []
  }
 ],
 "metadata": {
  "kernelspec": {
   "display_name": "Python 3",
   "language": "python",
   "name": "python3"
  },
  "language_info": {
   "codemirror_mode": {
    "name": "ipython",
    "version": 3
   },
   "file_extension": ".py",
   "mimetype": "text/x-python",
   "name": "python",
   "nbconvert_exporter": "python",
   "pygments_lexer": "ipython3",
   "version": "3.6.3"
  }
 },
 "nbformat": 4,
 "nbformat_minor": 2
}
